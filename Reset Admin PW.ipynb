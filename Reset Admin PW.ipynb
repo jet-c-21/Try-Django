{
 "cells": [
  {
   "cell_type": "code",
   "execution_count": 1,
   "id": "intelligent-matrix",
   "metadata": {},
   "outputs": [],
   "source": [
    "import os\n",
    "os.environ[\"DJANGO_ALLOW_ASYNC_UNSAFE\"] = \"true\""
   ]
  },
  {
   "cell_type": "code",
   "execution_count": 2,
   "id": "under-makeup",
   "metadata": {},
   "outputs": [],
   "source": [
    "from django.contrib.auth.models import User"
   ]
  },
  {
   "cell_type": "code",
   "execution_count": 7,
   "id": "hybrid-vacation",
   "metadata": {},
   "outputs": [],
   "source": [
    "# Reset Password"
   ]
  },
  {
   "cell_type": "code",
   "execution_count": 3,
   "id": "governmental-platform",
   "metadata": {},
   "outputs": [],
   "source": [
    "user = User.objects.get(username='admin')"
   ]
  },
  {
   "cell_type": "code",
   "execution_count": 4,
   "id": "given-sentence",
   "metadata": {},
   "outputs": [
    {
     "data": {
      "text/plain": [
       "<User: admin>"
      ]
     },
     "execution_count": 4,
     "metadata": {},
     "output_type": "execute_result"
    }
   ],
   "source": [
    "user"
   ]
  },
  {
   "cell_type": "code",
   "execution_count": 5,
   "id": "thick-democrat",
   "metadata": {},
   "outputs": [],
   "source": [
    "user.set_password('asdf123520')"
   ]
  },
  {
   "cell_type": "code",
   "execution_count": 6,
   "id": "signal-tuning",
   "metadata": {},
   "outputs": [],
   "source": [
    "user.save()"
   ]
  },
  {
   "cell_type": "code",
   "execution_count": null,
   "id": "multiple-preservation",
   "metadata": {},
   "outputs": [],
   "source": []
  },
  {
   "cell_type": "code",
   "execution_count": null,
   "id": "polyphonic-order",
   "metadata": {},
   "outputs": [],
   "source": []
  },
  {
   "cell_type": "code",
   "execution_count": null,
   "id": "novel-vietnam",
   "metadata": {},
   "outputs": [],
   "source": []
  },
  {
   "cell_type": "code",
   "execution_count": null,
   "id": "empirical-stopping",
   "metadata": {},
   "outputs": [],
   "source": []
  },
  {
   "cell_type": "code",
   "execution_count": null,
   "id": "planned-rachel",
   "metadata": {},
   "outputs": [],
   "source": []
  },
  {
   "cell_type": "code",
   "execution_count": null,
   "id": "minus-problem",
   "metadata": {},
   "outputs": [],
   "source": []
  },
  {
   "cell_type": "code",
   "execution_count": null,
   "id": "rough-three",
   "metadata": {},
   "outputs": [],
   "source": []
  }
 ],
 "metadata": {
  "kernelspec": {
   "display_name": "Django Shell-Plus",
   "language": "python",
   "name": "django_extensions"
  },
  "language_info": {
   "codemirror_mode": {
    "name": "ipython",
    "version": 3
   },
   "file_extension": ".py",
   "mimetype": "text/x-python",
   "name": "python",
   "nbconvert_exporter": "python",
   "pygments_lexer": "ipython3",
   "version": "3.7.9"
  }
 },
 "nbformat": 4,
 "nbformat_minor": 5
}
