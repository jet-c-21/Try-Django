{
 "cells": [
  {
   "cell_type": "code",
   "execution_count": 16,
   "id": "structural-browser",
   "metadata": {},
   "outputs": [],
   "source": [
    "from products.models import Product"
   ]
  },
  {
   "cell_type": "markdown",
   "id": "burning-radical",
   "metadata": {},
   "source": [
    "# Fix SynchronousOnlyOperation:\n",
    "```SynchronousOnlyOperation: You cannot call this from an async context - use a thread or sync_to_async.```"
   ]
  },
  {
   "cell_type": "code",
   "execution_count": 17,
   "id": "several-confirmation",
   "metadata": {},
   "outputs": [],
   "source": [
    "import os\n",
    "os.environ[\"DJANGO_ALLOW_ASYNC_UNSAFE\"] = \"true\""
   ]
  },
  {
   "cell_type": "markdown",
   "id": "confused-phenomenon",
   "metadata": {},
   "source": [
    "# Get Started"
   ]
  },
  {
   "cell_type": "markdown",
   "id": "affected-meditation",
   "metadata": {},
   "source": [
    "### Get all model-object"
   ]
  },
  {
   "cell_type": "code",
   "execution_count": 18,
   "id": "helpful-battery",
   "metadata": {},
   "outputs": [
    {
     "data": {
      "text/plain": [
       "<QuerySet [<Product: 3. a pen>]>"
      ]
     },
     "execution_count": 18,
     "metadata": {},
     "output_type": "execute_result"
    }
   ],
   "source": [
    "Product.objects.all()"
   ]
  },
  {
   "cell_type": "markdown",
   "id": "following-remedy",
   "metadata": {},
   "source": [
    "### Create an object"
   ]
  },
  {
   "cell_type": "code",
   "execution_count": 20,
   "id": "differential-graham",
   "metadata": {},
   "outputs": [
    {
     "data": {
      "text/plain": [
       "<Product: 5. cake>"
      ]
     },
     "execution_count": 20,
     "metadata": {},
     "output_type": "execute_result"
    }
   ],
   "source": [
    "Product.objects.create(\n",
    "    title='cake',\n",
    "    description='a cake',\n",
    "    price=49,\n",
    "    summary='sweet'\n",
    ")"
   ]
  },
  {
   "cell_type": "markdown",
   "id": "unnecessary-contrast",
   "metadata": {},
   "source": [
    "### Check the stuff you've created"
   ]
  },
  {
   "cell_type": "code",
   "execution_count": 21,
   "id": "responsible-establishment",
   "metadata": {},
   "outputs": [
    {
     "data": {
      "text/plain": [
       "<QuerySet [<Product: 3. a pen>, <Product: 4. cake>, <Product: 5. cake>]>"
      ]
     },
     "execution_count": 21,
     "metadata": {},
     "output_type": "execute_result"
    }
   ],
   "source": [
    "Product.objects.all()"
   ]
  },
  {
   "cell_type": "markdown",
   "id": "pregnant-failing",
   "metadata": {},
   "source": [
    "### Now, you can go to server and check the admin page"
   ]
  },
  {
   "cell_type": "code",
   "execution_count": null,
   "id": "improved-district",
   "metadata": {},
   "outputs": [],
   "source": []
  },
  {
   "cell_type": "code",
   "execution_count": null,
   "id": "capable-patrick",
   "metadata": {},
   "outputs": [],
   "source": []
  },
  {
   "cell_type": "code",
   "execution_count": null,
   "id": "center-swimming",
   "metadata": {},
   "outputs": [],
   "source": []
  },
  {
   "cell_type": "code",
   "execution_count": null,
   "id": "welcome-longitude",
   "metadata": {},
   "outputs": [],
   "source": []
  }
 ],
 "metadata": {
  "kernelspec": {
   "display_name": "Django Shell-Plus",
   "language": "python",
   "name": "django_extensions"
  },
  "language_info": {
   "codemirror_mode": {
    "name": "ipython",
    "version": 3
   },
   "file_extension": ".py",
   "mimetype": "text/x-python",
   "name": "python",
   "nbconvert_exporter": "python",
   "pygments_lexer": "ipython3",
   "version": "3.7.9"
  }
 },
 "nbformat": 4,
 "nbformat_minor": 5
}
